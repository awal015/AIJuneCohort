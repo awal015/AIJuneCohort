{
  "nbformat": 4,
  "nbformat_minor": 0,
  "metadata": {
    "colab": {
      "provenance": []
    },
    "kernelspec": {
      "name": "python3",
      "display_name": "Python 3"
    },
    "language_info": {
      "name": "python"
    }
  },
  "cells": [
    {
      "cell_type": "markdown",
      "source": [
        "# Mini Project: Recommendation Engines\n",
        "\n",
        "Recommendation engines are algorithms designed to provide personalized suggestions or recommendations to users. These systems analyze user behavior, preferences, and interactions with items (products, movies, music, articles, etc.) to predict and offer items that users are likely to be interested in. Recommendation engines play a crucial role in enhancing user experience, driving engagement, and increasing conversion rates in various applications, including e-commerce, entertainment, content platforms, and more.\n",
        "\n",
        "There are generally two approaches taken in collaborative filtering and content-based recommendation engines:\n",
        "\n",
        "**1. Collaborative Filtering:**\n",
        "Collaborative Filtering is a popular approach to building recommendation systems that leverages the collective behavior of users to make personalized recommendations. It is based on the idea that users who have agreed in the past will likely agree in the future. There are two main types of collaborative filtering:\n",
        "\n",
        "- **User-based Collaborative Filtering:** This method finds users similar to the target user based on their past interactions (e.g., ratings or purchases). It then recommends items that similar users have liked but the target user has not interacted with yet.\n",
        "\n",
        "- **Item-based Collaborative Filtering:** In this approach, the system identifies similar items based on user interactions. It recommends items that are similar to the ones the target user has already liked or interacted with.\n",
        "\n",
        "Collaborative filtering does not require any explicit information about items but relies on the similarity between users or items. It is effective in capturing complex patterns and can provide serendipitous recommendations. However, it suffers from the cold-start problem (i.e., difficulty in recommending to new users or items with no interactions) and scalability challenges in large datasets.\n",
        "\n",
        "**2. Content-Based Recommendation:**\n",
        "Content-based recommendation is an alternative approach to building recommendation systems that focuses on the attributes or features of items and users. It leverages the characteristics of items to make recommendations. The key steps involved in content-based recommendation are:\n",
        "\n",
        "- **Feature Extraction:** For each item, relevant features are extracted. For movies, these features could be genre, director, actors, and plot summary.\n",
        "\n",
        "- **User Profile:** A user profile is created based on the items they have interacted with in the past. The user profile contains the weighted importance of features based on their interactions.\n",
        "\n",
        "- **Similarity Calculation:** The similarity between items or between items and the user profile is calculated using similarity metrics like cosine similarity or Euclidean distance.\n",
        "\n",
        "- **Recommendation:** Items that are most similar to the user profile are recommended to the user.\n",
        "\n",
        "Content-based recommendation systems are less affected by the cold-start problem as they can still recommend items based on their features. They are also more interpretable as they rely on item attributes. However, they may miss out on providing serendipitous recommendations and can be limited by the quality of feature extraction and user profiles.\n",
        "\n",
        "**Choosing Between Collaborative Filtering and Content-Based:**\n",
        "Both collaborative filtering and content-based approaches have their strengths and weaknesses. The choice between them depends on the specific requirements of the recommendation system, the type of data available, and the user base. Hybrid approaches that combine collaborative filtering and content-based techniques are also common, aiming to leverage the strengths of both methods and mitigate their weaknesses."
      ],
      "metadata": {
        "id": "fyXucUekO19i"
      }
    },
    {
      "cell_type": "markdown",
      "source": [
        "In this mini-project, you'll be building both content based and collaborative filtering engines for the [MovieLens 25M dataset](https://grouplens.org/datasets/movielens/25m/). The MovieLens 25M dataset is one of the most widely used and popular datasets for building and evaluating recommendation systems. It is provided by the GroupLens Research project, which collects and studies datasets related to movie ratings and recommendations. The MovieLens 25M dataset contains movie ratings and other related information contributed by users of the MovieLens website.\n",
        "\n",
        "**Dataset Details:**\n",
        "- **Size:** The dataset contains approximately 25 million movie ratings.\n",
        "- **Users:** It includes ratings from over 162,000 users.\n",
        "- **Movies:** The dataset consists of ratings for more than 62,000 movies.\n",
        "- **Ratings:** The ratings are provided on a scale of 1 to 5, where 1 is the lowest rating and 5 is the highest.\n",
        "- **Timestamps:** Each rating is associated with a timestamp, indicating when the rating was given.\n",
        "\n",
        "**Data Files:**\n",
        "The dataset is usually split into three CSV files:\n",
        "\n",
        "1. **movies.csv:** Contains information about movies, including the movie ID, title, genres, and release year.\n",
        "   - Columns: movieId, title, genres\n",
        "\n",
        "2. **ratings.csv:** Contains movie ratings provided by users, including the user ID, movie ID, rating, and timestamp.\n",
        "   - Columns: userId, movieId, rating, timestamp\n",
        "\n",
        "3. **tags.csv:** Contains user-generated tags for movies, including the user ID, movie ID, tag, and timestamp.\n",
        "   - Columns: userId, movieId, tag, timestamp"
      ],
      "metadata": {
        "id": "TYuE9O6I2uRY"
      }
    },
    {
      "cell_type": "markdown",
      "source": [
        "First, import all the libraries you'll need."
      ],
      "metadata": {
        "id": "DN0qzP-cRlMo"
      }
    },
    {
      "cell_type": "code",
      "execution_count": 1,
      "metadata": {
        "id": "kLWR1DfQPakn"
      },
      "outputs": [],
      "source": [
        "import zipfile\n",
        "import numpy as np\n",
        "import pandas as pd\n",
        "from urllib.request import urlretrieve\n",
        "from sklearn.metrics.pairwise import cosine_similarity"
      ]
    },
    {
      "cell_type": "markdown",
      "source": [
        "Next, download the relevant components of the MoveLens dataset. Note, these instructions are roughly based on the colab [here](https://colab.research.google.com/github/google/eng-edu/blob/main/ml/recommendation-systems/recommendation-systems.ipynb?utm_source=ss-recommendation-systems&utm_campaign=colab-external&utm_medium=referral&utm_content=recommendation-systems#scrollTo=O3bcgduFo4s6)."
      ],
      "metadata": {
        "id": "iaG6vAKyREej"
      }
    },
    {
      "cell_type": "code",
      "source": [
        "print(\"Downloading movielens data...\")\n",
        "\n",
        "urlretrieve('http://files.grouplens.org/datasets/movielens/ml-100k.zip', 'movielens.zip')\n",
        "zip_ref = zipfile.ZipFile('movielens.zip', 'r')\n",
        "zip_ref.extractall()\n",
        "print(\"Done. Dataset contains:\")\n",
        "print(zip_ref.read('ml-100k/u.info'))\n",
        "\n",
        "ratings_cols = ['user_id', 'movie_id', 'rating', 'unix_timestamp']\n",
        "ratings = pd.read_csv(\n",
        "    'ml-100k/u.data', sep='\\t', names=ratings_cols, encoding='latin-1')\n",
        "\n",
        "# The movies file contains a binary feature for each genre.\n",
        "genre_cols = [\n",
        "    \"genre_unknown\", \"Action\", \"Adventure\", \"Animation\", \"Children\", \"Comedy\",\n",
        "    \"Crime\", \"Documentary\", \"Drama\", \"Fantasy\", \"Film-Noir\", \"Horror\",\n",
        "    \"Musical\", \"Mystery\", \"Romance\", \"Sci-Fi\", \"Thriller\", \"War\", \"Western\"\n",
        "]\n",
        "movies_cols = [\n",
        "    'movie_id', 'title', 'release_date', \"video_release_date\", \"imdb_url\"\n",
        "] + genre_cols\n",
        "movies = pd.read_csv(\n",
        "    'ml-100k/u.item', sep='|', names=movies_cols, encoding='latin-1')"
      ],
      "metadata": {
        "id": "-wCvx2ukPm-3",
        "colab": {
          "base_uri": "https://localhost:8080/"
        },
        "outputId": "98b8723a-a765-459e-d1e7-a751c1ba52c0"
      },
      "execution_count": 2,
      "outputs": [
        {
          "output_type": "stream",
          "name": "stdout",
          "text": [
            "Downloading movielens data...\n",
            "Done. Dataset contains:\n",
            "b'943 users\\n1682 items\\n100000 ratings\\n'\n"
          ]
        }
      ]
    },
    {
      "cell_type": "markdown",
      "source": [
        "Before doing any kind of machine learning, it's always good to familiarize yourself with the datasets you'lll be working with.\n",
        "\n",
        "Here are your tasks:\n",
        "\n",
        "1. Spend some time familiarizing yourself with both the `movies` and `ratings` dataframes. How many unique user ids are present? How many unique movies are there?\n",
        "2. Create a new dataframe that merges the `movies` and `ratings` tables on 'movie_id'. Only keep the 'user_id', 'title', 'rating' fields in this new dataframe."
      ],
      "metadata": {
        "id": "pLAMVhnbR-Cy"
      }
    },
    {
      "cell_type": "code",
      "source": [
        "# Spend some time familiarizing yourself with both the movies and ratings\n",
        "# dataframes. How many unique user ids are present? How many unique movies\n",
        "# are there?\n",
        "user_ids = ratings['user_id'].unique()\n",
        "print(len(user_ids))\n",
        "movie_ids = ratings['movie_id'].unique()\n",
        "print(len(movie_ids))\n",
        "print(ratings.head())"
      ],
      "metadata": {
        "id": "vp7Tx7H_P5f2",
        "colab": {
          "base_uri": "https://localhost:8080/"
        },
        "outputId": "a7cf3d1a-d308-4359-8844-d2ea31d75fb1"
      },
      "execution_count": 13,
      "outputs": [
        {
          "output_type": "stream",
          "name": "stdout",
          "text": [
            "943\n",
            "1682\n",
            "   user_id  movie_id  rating  unix_timestamp\n",
            "0      196       242       3       881250949\n",
            "1      186       302       3       891717742\n",
            "2       22       377       1       878887116\n",
            "3      244        51       2       880606923\n",
            "4      166       346       1       886397596\n"
          ]
        }
      ]
    },
    {
      "cell_type": "code",
      "source": [
        "# Merge movies and ratings dataframes\n",
        "df = pd.merge(movies[['movie_id', 'title']], ratings[['user_id', 'movie_id', 'rating']], on='movie_id')"
      ],
      "metadata": {
        "id": "f6MrymMJRMjB"
      },
      "execution_count": 4,
      "outputs": []
    },
    {
      "cell_type": "markdown",
      "source": [
        "As mentioned in the introduction, content-Based Filtering is a recommendation engine approach that focuses on the attributes or features of items (products, movies, music, articles, etc.) and leverages these features to make personalized recommendations. The underlying idea is to match the characteristics of items with the preferences of users to suggest items that align with their interests. Content-based filtering is particularly useful when explicit user-item interactions (e.g., ratings or purchases) are sparse or unavailable.\n",
        "\n",
        "**Key Steps in Content-Based Filtering:**\n",
        "\n",
        "1. **Feature Extraction:**\n",
        "   - For each item, relevant features are extracted. These features are typically descriptive attributes that can be represented numerically, such as genre, director, actors, author, publication date, and keywords.\n",
        "   - In the case of text-based items, natural language processing techniques may be used to extract features like TF-IDF (Term Frequency-Inverse Document Frequency) scores.\n",
        "\n",
        "2. **User Profile Creation:**\n",
        "   - A user profile is created based on the items they have interacted with in the past. The user profile contains the weighted importance of features based on their interactions.\n",
        "   - For example, if a user has watched several action movies, the action genre feature would receive a higher weight in their profile.\n",
        "\n",
        "3. **Similarity Calculation:**\n",
        "   - The similarity between items or between items and the user profile is calculated using similarity metrics like cosine similarity, Euclidean distance, or Pearson correlation.\n",
        "   - Cosine similarity is commonly used as it measures the cosine of the angle between two vectors, which represents their similarity.\n",
        "\n",
        "4. **Recommendation:**\n",
        "   - Items that are most similar to the user profile are recommended to the user. These are items whose features have the highest similarity scores with the user profile.\n",
        "   - The recommended items are presented as a list sorted by their similarity scores.\n",
        "\n",
        "**Advantages of Content-Based Filtering:**\n",
        "1. **No Cold-Start Problem:** Content-based filtering can make recommendations even for new users with no historical interactions because it relies on item features rather than user history.\n",
        "\n",
        "2. **User Independence:** The recommendations are based solely on the features of items and do not require knowledge of other users' preferences or behavior.\n",
        "\n",
        "3. **Transparency:** Content-based recommendations are interpretable, as they depend on the features of items, making it easier for users to understand why specific items are recommended.\n",
        "\n",
        "4. **Serendipity:** Content-based filtering can recommend items with characteristics not seen before by the user, leading to serendipitous discoveries.\n",
        "\n",
        "5. **Diversity in Recommendations:** The method can offer diverse recommendations since it suggests items with different feature combinations.\n",
        "\n",
        "**Limitations of Content-Based Filtering:**\n",
        "1. **Limited Discovery:** Content-based filtering may struggle to recommend items outside the scope of users' historical interactions or interests.\n",
        "\n",
        "2. **Over-Specialization:** Users may receive recommendations that are too similar to their previous choices, leading to a lack of exposure to new item categories.\n",
        "\n",
        "3. **Dependency on Feature Quality:** The quality and relevance of item features significantly influence the quality of recommendations.\n",
        "\n",
        "4. **Limited for Cold Items:** Content-based filtering can struggle to recommend new items with limited feature information."
      ],
      "metadata": {
        "id": "_U44W0TMT3qf"
      }
    },
    {
      "cell_type": "markdown",
      "source": [
        "Here is your task:\n",
        "\n",
        "1. Write a function that takes in a user id and the dataframe you created before that contains 'user_id', 'title', and 'rating'. The function should return content-based recommendations for this user. Here are steps you can take:\n",
        "\n",
        "  A. Get the user's rated movies\n",
        "\n",
        "  B. Create a TF-IDF matrix using movie genres. Note, this can be extracted from the `movies` dataframe.\n",
        "\n",
        "  C. Compute the cosine similarity between movie genres. Use the [cosine_similarity](https://scikit-learn.org/stable/modules/generated/sklearn.metrics.pairwise.cosine_similarity.html) function.\n",
        "\n",
        "  D. Get the indices of similar movies to those rated by the user based on cosine similarity. Keep only the top 5.\n",
        "\n",
        "  E. Remove duplicates and movies already rated by the user."
      ],
      "metadata": {
        "id": "sbJGD7j7Ui-8"
      }
    },
    {
      "cell_type": "code",
      "source": [
        "# Content-Based Filtering using Movie Genres\n",
        "def content_based_recommendation(user_id, df):\n",
        "  # Get the user's rated movies\n",
        "  rated_movies = df[df['user_id'] == user_id]\n",
        "\n",
        "  # Create a TF-IDF matrix using movie genres\n",
        "  genres = movies.columns[5:]\n",
        "  tfidf_matrix = movies[genres]\n",
        "\n",
        "  # Compute the cosine similarity between movie genres\n",
        "  cosine_sim = cosine_similarity(tfidf_matrix, tfidf_matrix)\n",
        "\n",
        "  # Get the indices of the similar movies based on cosine similarity. Keep only the top 5\n",
        "  similar_movies_indices = cosine_sim[rated_movies['movie_id'].values - 1].argsort(axis=1)[:, ::-1]\n",
        "  similar_movies_indices = similar_movies_indices[:, 1:6]\n",
        "\n",
        "  # Remove duplicates and movies already rated by the user\n",
        "  recommendations = []\n",
        "  for movie_indices in similar_movies_indices: #This code was not properly indented and was outside of the function.\n",
        "    for movie_id in movie_indices:\n",
        "      movie_title = movies[movies['movie_id'] == movie_id + 1]['title'].values[0]\n",
        "      if movie_title not in rated_movies['title'].values and movie_title not in recommendations:\n",
        "        recommendations.append(movie_title)\n",
        "\n"
      ],
      "metadata": {
        "id": "JwBQSC-POTzn"
      },
      "execution_count": 10,
      "outputs": []
    },
    {
      "cell_type": "markdown",
      "source": [
        "The key idea behind collaborative filtering is that users who have agreed in the past will likely agree in the future. Instead of relying on item attributes or user profiles, collaborative filtering identifies patterns of user behavior and item preferences from the interactions present in the data.\n",
        "\n",
        "**Types of Collaborative Filtering:**\n",
        "There are two main types of collaborative filtering:\n",
        "\n",
        "**Collaborative Filtering Process:**\n",
        "The collaborative filtering process typically involves the following steps:\n",
        "\n",
        "1. **Data Collection:**\n",
        "   - Gather data on user-item interactions, such as movie ratings, product purchases, or article clicks.\n",
        "\n",
        "2. **User-Item Matrix:**\n",
        "   - Organize the data into a user-item matrix, where rows represent users, columns represent items, and the entries contain the users' interactions (e.g., ratings).\n",
        "\n",
        "3. **Similarity Calculation:**\n",
        "   - Calculate the similarity between users or items using similarity metrics such as cosine similarity, Pearson correlation, or Jaccard similarity.\n",
        "   - For user-based collaborative filtering, user similarities are calculated, and for item-based collaborative filtering, item similarities are calculated.\n",
        "\n",
        "4. **Neighborhood Selection:**\n",
        "   - For each user or item, select the most similar users or items as the neighborhood.\n",
        "   - The size of the neighborhood (the number of similar users or items to consider) is an important parameter to control the system's behavior.\n",
        "\n",
        "5. **Prediction Generation:**\n",
        "   - Predict the ratings for items that the target user has not yet interacted with by combining the ratings of neighboring users or items.\n",
        "\n",
        "6. **Recommendation Generation:**\n",
        "   - Recommend items with the highest predicted ratings to the target user.\n",
        "\n",
        "**Advantages of Collaborative Filtering using User-Item Interactions:**\n",
        "- Collaborative filtering is based solely on user interactions and does not require knowledge of item attributes, making it useful for cases where item data is sparse or unavailable.\n",
        "- It can provide serendipitous recommendations, suggesting items that users may not have discovered on their own.\n",
        "- Collaborative filtering can be applied in various domains, including e-commerce, music, movie, and content recommendations.\n",
        "\n",
        "**Limitations of Collaborative Filtering:**\n",
        "- The cold-start problem: Collaborative filtering struggles to recommend to new users or items with no or limited interaction history.\n",
        "- It may suffer from sparsity when data is limited or when users have only interacted with a small subset of items.\n",
        "- Scalability issues can arise with large datasets and an increasing number of users or items."
      ],
      "metadata": {
        "id": "2NNt3gHLYDxU"
      }
    },
    {
      "cell_type": "markdown",
      "source": [
        "Here is your task:\n",
        "\n",
        "1. Write a function that takes in a user id and the dataframe you created before that contains 'user_id', 'title', and 'rating'. The function should return collaborative filtering recommendations for this user based on a user-item interaction matrix. Here are steps you can take:\n",
        "\n",
        "  A. Create the user-item matrix using Pandas' [pivot_table](https://pandas.pydata.org/docs/reference/api/pandas.pivot_table.html).\n",
        "\n",
        "  B. Fill missing values with zeros in this matrix.\n",
        "\n",
        "  C. Calculate user-user similarity matrix using cosine similarity.\n",
        "\n",
        "  D. Get the array of similarity scores of the target user with all other users from the similarity matrix.\n",
        "\n",
        "  E. Extract, say the the top 5 most similar users (excluding the target user).\n",
        "\n",
        "  F. Generate movie recommendations based on the most similar users.\n",
        "\n",
        "  G. Remove duplicate movies recommendations."
      ],
      "metadata": {
        "id": "ks4mWyCaYVNY"
      }
    },
    {
      "cell_type": "code",
      "source": [
        "# Collaborative Filtering using User-Item Interactions\n",
        "def collaborative_filtering_recommendation(user_id, df):\n",
        "  # Create the user-item matrix\n",
        "  user_item_matrix = pd.pivot_table(df, values='rating', index='user_id', columns='title', fill_value=0)\n",
        "\n",
        "  # Fill missing values with 0 (indicating no rating)\n",
        "  user_item_matrix = user_item_matrix.fillna(0)\n",
        "\n",
        "  # Calculate user-user similarity matrix using cosine similarity\n",
        "  user_similarity_matrix = cosine_similarity(user_item_matrix)\n",
        "\n",
        "  # Get the similarity scores of the target user with all other users\n",
        "  user_similarity_scores = user_similarity_matrix[user_id-1]\n",
        "\n",
        "  # Find the top N most similar users (excluding the target user)\n",
        "  top_n_users = np.argsort(user_similarity_scores)[::-1][1:6]\n",
        "\n",
        "\n",
        "  # Generate movie recommendations based on the most similar users\n",
        "  recommendations = []\n",
        "  for user in top_n_users:\n",
        "    recommendations.extend(df[df['user_id'] == user+1]['title'].unique())\n",
        "\n",
        "\n",
        "  # Remove duplicates from recommendations\n",
        "  recommendations = list(set(recommendations))\n"
      ],
      "metadata": {
        "id": "BqZPgKRDWf-c"
      },
      "execution_count": 7,
      "outputs": []
    },
    {
      "cell_type": "markdown",
      "source": [
        "Now, test your recommendations engines! Select a few user ids and generate recommendations using both functions you've written. Are the recommendations similar? Do the recommendations make sense?"
      ],
      "metadata": {
        "id": "-Jj883VAZRNe"
      }
    },
    {
      "cell_type": "code",
      "source": [
        "# Test the recommendation engines\n",
        "user_id = 244\n",
        "recommendations_cbr = content_based_recommendation(user_id, df)\n",
        "print(recommendations_cbr)\n",
        "recommendations_cfr = collaborative_filtering_recommendation(user_id, df)\n",
        "print(recommendations_cfr)"
      ],
      "metadata": {
        "id": "kt9nuOTNJXz8",
        "colab": {
          "base_uri": "https://localhost:8080/"
        },
        "outputId": "68fcdf65-786b-4768-df9b-97155e4f98cb"
      },
      "execution_count": 17,
      "outputs": [
        {
          "output_type": "stream",
          "name": "stdout",
          "text": [
            "None\n",
            "['Sliver (1993)', 'G.I. Jane (1997)', 'Con Air (1997)', 'Absolute Power (1997)', 'Cinderella (1950)', '2 Days in the Valley (1996)', 'Phenomenon (1996)', 'Die Hard 2 (1990)', 'Lord of Illusions (1995)', 'Blown Away (1994)', 'Heidi Fleiss: Hollywood Madam (1995) ', 'Searching for Bobby Fischer (1993)', 'Miami Rhapsody (1995)', 'While You Were Sleeping (1995)', 'Jurassic Park (1993)', \"Weekend at Bernie's (1989)\", 'Amos & Andrew (1993)', 'Under Siege 2: Dark Territory (1995)', 'Naked (1993)', 'Star Trek: The Wrath of Khan (1982)', 'Immortal Beloved (1994)', 'Air Bud (1997)', 'GoodFellas (1990)', 'Farewell My Concubine (1993)', \"Monty Python's Life of Brian (1979)\", 'Kicking and Screaming (1995)', 'Jaws 3-D (1983)', 'Die xue shuang xiong (Killer, The) (1989)', 'Adventures of Pinocchio, The (1996)', 'Star Trek VI: The Undiscovered Country (1991)', 'Renaissance Man (1994)', 'Threesome (1994)', 'Cool Runnings (1993)', 'Breaking the Waves (1996)', 'Deer Hunter, The (1978)', 'Milk Money (1994)', 'Stealing Beauty (1996)', 'Grifters, The (1990)', 'Eraser (1996)', '101 Dalmatians (1996)', 'Trainspotting (1996)', 'Basic Instinct (1992)', 'Mrs. Brown (Her Majesty, Mrs. Brown) (1997)', 'Jungle2Jungle (1997)', 'Young Guns (1988)', 'Spice World (1997)', 'Clockwork Orange, A (1971)', 'Substitute, The (1996)', 'Cold Comfort Farm (1995)', 'Kalifornia (1993)', 'Dave (1993)', \"One Flew Over the Cuckoo's Nest (1975)\", 'With Honors (1994)', 'Friday (1995)', 'Money Train (1995)', 'Canadian Bacon (1994)', 'If Lucy Fell (1996)', 'One Fine Day (1996)', 'Backbeat (1993)', 'Wyatt Earp (1994)', 'Get on the Bus (1996)', 'Unforgettable (1996)', 'Marked for Death (1990)', 'Four Rooms (1995)', 'True Lies (1994)', 'Star Trek: First Contact (1996)', 'Blade Runner (1982)', 'Last of the Mohicans, The (1992)', 'Three Musketeers, The (1993)', 'Mary Poppins (1964)', \"Jason's Lyric (1994)\", 'Arrival, The (1996)', 'Rock, The (1996)', 'Manchurian Candidate, The (1962)', 'Carrie (1976)', 'Little Women (1994)', 'Starship Troopers (1997)', 'Batman & Robin (1997)', 'Pump Up the Volume (1990)', 'To Die For (1995)', 'Good, The Bad and The Ugly, The (1966)', 'Congo (1995)', 'Days of Thunder (1990)', 'Chain Reaction (1996)', \"Mary Shelley's Frankenstein (1994)\", 'Amadeus (1984)', 'Silence of the Lambs, The (1991)', \"Muriel's Wedding (1994)\", 'Sabrina (1995)', \"Bram Stoker's Dracula (1992)\", 'Last Action Hero (1993)', 'Harold and Maude (1971)', 'Sudden Death (1995)', 'Nightmare on Elm Street, A (1984)', 'Seventh Seal, The (Sjunde inseglet, Det) (1957)', '2001: A Space Odyssey (1968)', 'Mediterraneo (1991)', 'Room with a View, A (1986)', 'Nine Months (1995)', 'Jackie Brown (1997)', 'Keys to Tulsa (1997)', 'Money Talks (1997)', 'Pink Floyd - The Wall (1982)', 'Dead Poets Society (1989)', 'Mask, The (1994)', 'First Kid (1996)', 'Cook the Thief His Wife & Her Lover, The (1989)', 'Dragonheart (1996)', 'Another Stakeout (1993)', 'That Thing You Do! (1996)', 'Copycat (1995)', 'Bad Boys (1995)', 'Mulholland Falls (1996)', 'Toy Story (1995)', 'Kingpin (1996)', 'Batman Returns (1992)', 'Matilda (1996)', 'Private Parts (1997)', 'Candyman (1992)', 'Four Weddings and a Funeral (1994)', 'True Romance (1993)', 'Dirty Dancing (1987)', 'Face/Off (1997)', 'Above the Rim (1994)', 'Timecop (1994)', 'Jerry Maguire (1996)', 'Terminal Velocity (1994)', 'Waiting to Exhale (1995)', 'Safe (1995)', 'Kazaam (1996)', 'Live Nude Girls (1995)', \"Smilla's Sense of Snow (1997)\", 'Mother Night (1996)', 'Freeway (1996)', 'E.T. the Extra-Terrestrial (1982)', 'Mrs. Parker and the Vicious Circle (1994)', 'Home Alone (1990)', 'Sleepers (1996)', 'Blues Brothers 2000 (1998)', 'Black Sheep (1996)', 'Judge Dredd (1995)', 'Junior (1994)', 'House of the Spirits, The (1993)', 'Red Rock West (1992)', 'Time to Kill, A (1996)', 'Walk in the Clouds, A (1995)', 'Mighty Aphrodite (1995)', 'Somewhere in Time (1980)', 'Sound of Music, The (1965)', 'Three Colors: Red (1994)', \"What's Eating Gilbert Grape (1993)\", 'Remains of the Day, The (1993)', 'Paper, The (1994)', 'Good Will Hunting (1997)', 'Maverick (1994)', 'Executive Decision (1996)', 'Mad City (1997)', 'I.Q. (1994)', 'Nutty Professor, The (1996)', 'Abyss, The (1989)', 'Field of Dreams (1989)', 'Very Brady Sequel, A (1996)', 'Dr. Strangelove or: How I Learned to Stop Worrying and Love the Bomb (1963)', 'Man Without a Face, The (1993)', 'Graduate, The (1967)', 'Love and a .45 (1994)', 'Addams Family Values (1993)', 'Mortal Kombat (1995)', 'Secret of Roan Inish, The (1994)', 'Outbreak (1995)', 'Rob Roy (1995)', 'American President, The (1995)', 'Species (1995)', 'Billy Madison (1995)', \"Marvin's Room (1996)\", 'Bound (1996)', 'Wild Bill (1995)', 'Boomerang (1992)', 'Basquiat (1996)', 'Fifth Element, The (1997)', 'Get Shorty (1995)', 'Children of the Corn: The Gathering (1996)', 'Lion King, The (1994)', \"Heaven's Prisoners (1996)\", 'Crying Game, The (1992)', \"McHale's Navy (1997)\", 'Six Degrees of Separation (1993)', 'Priest (1994)', 'Bean (1997)', 'Doors, The (1991)', 'Ace Ventura: Pet Detective (1994)', 'Sgt. Bilko (1996)', 'Seven (Se7en) (1995)', 'Birdcage, The (1996)', 'Best of the Best 3: No Turning Back (1995)', 'Little Buddha (1993)', 'Shallow Grave (1994)', 'Glory (1989)', 'Hunchback of Notre Dame, The (1996)', 'Michael (1996)', 'Fierce Creatures (1997)', 'Booty Call (1997)', 'Madonna: Truth or Dare (1991)', 'Garden of Finzi-Contini, The (Giardino dei Finzi-Contini, Il) (1970)', 'Jade (1995)', 'Boys on the Side (1995)', 'Farinelli: il castrato (1994)', 'Casper (1995)', 'Twelve Monkeys (1995)', 'Demolition Man (1993)', 'Cat People (1982)', 'Forget Paris (1995)', 'Adventures of Priscilla, Queen of the Desert, The (1994)', 'To Kill a Mockingbird (1962)', 'Circle of Friends (1995)', \"Devil's Own, The (1997)\", 'Patton (1970)', 'Austin Powers: International Man of Mystery (1997)', 'Michael Collins (1996)', 'Three Colors: Blue (1993)', 'Age of Innocence, The (1993)', 'City Hall (1996)', 'Beavis and Butt-head Do America (1996)', 'Bio-Dome (1996)', 'Killing Fields, The (1984)', 'On Golden Pond (1981)', 'Breakdown (1997)', 'Wizard of Oz, The (1939)', 'Conan the Barbarian (1981)', 'Happy Gilmore (1996)', 'Panther (1995)', 'White Squall (1996)', 'Chasing Amy (1997)', 'Snow White and the Seven Dwarfs (1937)', 'Ace Ventura: When Nature Calls (1995)', 'Homeward Bound: The Incredible Journey (1993)', 'Terminator, The (1984)', 'Postino, Il (1994)', 'Angels in the Outfield (1994)', 'Stalingrad (1993)', \"Schindler's List (1993)\", 'Emma (1996)', 'Kiss the Girls (1997)', 'American Werewolf in London, An (1981)', 'Orlando (1993)', 'Heavenly Creatures (1994)', 'Robin Hood: Men in Tights (1993)', \"She's So Lovely (1997)\", 'Star Trek III: The Search for Spock (1984)', 'Up in Smoke (1978)', 'Strictly Ballroom (1992)', 'Beverly Hillbillies, The (1993)', 'Titanic (1997)', 'Welcome to the Dollhouse (1995)', 'Crow, The (1994)', 'Bridges of Madison County, The (1995)', 'To Wong Foo, Thanks for Everything! Julie Newmar (1995)', 'Leaving Las Vegas (1995)', 'Highlander III: The Sorcerer (1994)', 'SubUrbia (1997)', 'Addiction, The (1995)', 'Strange Days (1995)', 'Fish Called Wanda, A (1988)', 'Judgment Night (1993)', 'House Party 3 (1994)', 'Willy Wonka and the Chocolate Factory (1971)', \"Sophie's Choice (1982)\", 'Addicted to Love (1997)', 'Before Sunrise (1995)', 'Scream of Stone (Schrei aus Stein) (1991)', 'Private Benjamin (1980)', 'Babe (1995)', 'Last Man Standing (1996)', 'Lone Star (1996)', 'Grease 2 (1982)', 'Interview with the Vampire (1994)', 'Harriet the Spy (1996)', 'Taxi Driver (1976)', 'Shine (1996)', 'Citizen Ruth (1996)', 'French Kiss (1995)', 'Cop Land (1997)', 'Swingers (1996)', 'Jack (1996)', 'Independence Day (ID4) (1996)', 'Legends of the Fall (1994)', 'Heathers (1989)', 'Romper Stomper (1992)', 'Nick of Time (1995)', 'Full Metal Jacket (1987)', 'Waterworld (1995)', 'Jumanji (1995)', 'Eat Drink Man Woman (1994)', 'Alien (1979)', 'Akira (1988)', 'Bulletproof (1996)', 'Speechless (1994)', 'Angels and Insects (1995)', 'Scream (1996)', 'Casino (1995)', 'Real Genius (1985)', 'Rebel Without a Cause (1955)', 'When a Man Loves a Woman (1994)', 'James and the Giant Peach (1996)', 'Dangerous Minds (1995)', 'Cliffhanger (1993)', 'Wallace & Gromit: The Best of Aardman Animation (1996)', 'Tin Cup (1996)', 'Clueless (1995)', 'Air Up There, The (1994)', 'Up Close and Personal (1996)', 'Candyman: Farewell to the Flesh (1995)', 'Henry V (1989)', \"Preacher's Wife, The (1996)\", 'Beauty and the Beast (1991)', 'Steel (1997)', 'Unbearable Lightness of Being, The (1988)', 'Jaws (1975)', 'Free Willy 2: The Adventure Home (1995)', 'Amityville Horror, The (1979)', 'Star Trek V: The Final Frontier (1989)', 'Batman (1989)', 'George of the Jungle (1997)', 'Just Cause (1995)', 'Cyrano de Bergerac (1990)', 'Sling Blade (1996)', 'When the Cats Away (Chacun cherche son chat) (1996)', 'L.A. Confidential (1997)', \"Miller's Crossing (1990)\", 'In the Line of Fire (1993)', 'Right Stuff, The (1983)', 'Truth About Cats & Dogs, The (1996)', 'Return of the Pink Panther, The (1974)', 'Fugitive, The (1993)', 'Big Night (1996)', 'Road to Wellville, The (1994)', 'Army of Darkness (1993)', 'Bridge on the River Kwai, The (1957)', \"Jackie Chan's First Strike (1996)\", 'This Is Spinal Tap (1984)', 'Blue Chips (1994)', 'Blue in the Face (1995)', 'Aliens (1986)', 'Meet Me in St. Louis (1944)', 'Maltese Falcon, The (1941)', 'Stargate (1994)', 'Death and the Maiden (1994)', 'Gandhi (1982)', 'Star Wars (1977)', 'Pretty Woman (1990)', 'Reality Bites (1994)', 'Annie Hall (1977)', 'From Dusk Till Dawn (1996)', 'Raiders of the Lost Ark (1981)', 'Dolores Claiborne (1994)', 'Night on Earth (1991)', 'Alien 3 (1992)', 'Escape from New York (1981)', 'Rudy (1993)', 'Phantom, The (1996)', 'Dead Man (1995)', 'Desperado (1995)', 'North by Northwest (1959)', 'Donnie Brasco (1997)', 'Andre (1994)', 'Better Off Dead... (1985)', \"My Best Friend's Wedding (1997)\", 'People vs. Larry Flynt, The (1996)', 'GoldenEye (1995)', 'Die Hard (1988)', 'Wolf (1994)', 'Fly Away Home (1996)', 'Game, The (1997)', 'Twister (1996)', 'Chinatown (1974)', 'Burnt Offerings (1976)', 'Groundhog Day (1993)', 'How to Make an American Quilt (1995)', 'Muppet Treasure Island (1996)', 'Hoodlum (1997)', 'Liar Liar (1997)', 'Othello (1995)', 'Sneakers (1992)', \"Nobody's Fool (1994)\", 'D3: The Mighty Ducks (1996)', 'Nightmare Before Christmas, The (1993)', 'Ed Wood (1994)', 'Sex, Lies, and Videotape (1989)', 'Serial Mom (1994)', 'Something to Talk About (1995)', 'Star Trek IV: The Voyage Home (1986)', 'Bloodsport 2 (1995)', 'Cinema Paradiso (1988)', 'Free Willy (1993)', 'Mystery Science Theater 3000: The Movie (1996)', 'Gattaca (1997)', 'Jingle All the Way (1996)', 'English Patient, The (1996)', 'Reservoir Dogs (1992)', 'Double vie de Véronique, La (Double Life of Veronique, The) (1991)', 'Return of the Jedi (1983)', 'Birds, The (1963)', 'Fargo (1996)', 'Monty Python and the Holy Grail (1974)', 'Great White Hype, The (1996)', 'Vegas Vacation (1997)', 'Smoke (1995)', 'Mission: Impossible (1996)', 'Before and After (1996)', 'Grumpier Old Men (1995)', 'Powder (1995)', 'Showgirls (1995)', 'Broken Arrow (1996)', 'Miracle on 34th Street (1994)', 'Long Kiss Goodnight, The (1996)', 'Englishman Who Went Up a Hill, But Came Down a Mountain, The (1995)', 'Man of the House (1995)', 'Scream 2 (1997)', 'Primal Fear (1996)', 'Getaway, The (1994)', 'Santa Clause, The (1994)', 'Die Hard: With a Vengeance (1995)', 'Naked Gun 33 1/3: The Final Insult (1994)', 'Crash (1996)', 'Delicatessen (1991)', 'Airheads (1994)', 'Citizen Kane (1941)', \"Joe's Apartment (1996)\", 'Rising Sun (1993)', 'Saint, The (1997)', 'Hamlet (1996)', 'Beyond Rangoon (1995)', 'Oliver & Company (1988)', 'Now and Then (1995)', 'Parent Trap, The (1961)', 'Hudsucker Proxy, The (1994)', 'Heavyweights (1994)', 'Kids in the Hall: Brain Candy (1996)', 'Fried Green Tomatoes (1991)', 'Tie Me Up! Tie Me Down! (1990)', 'Indiana Jones and the Last Crusade (1989)', 'Natural Born Killers (1994)', 'Amistad (1997)', 'Escape from L.A. (1996)', 'Multiplicity (1996)', 'Halloween: The Curse of Michael Myers (1995)', 'Ghost and the Darkness, The (1996)', 'Quiz Show (1994)', 'Client, The (1994)', 'Man Who Would Be King, The (1975)', 'Drop Zone (1994)', 'Kids (1995)', 'Rumble in the Bronx (1995)', 'Coneheads (1993)', 'Jungle Book, The (1994)', 'Crucible, The (1996)', 'Glengarry Glen Ross (1992)', 'Hot Shots! Part Deux (1993)', 'First Wives Club, The (1996)', 'Bitter Moon (1992)', 'Brazil (1985)', 'Like Water For Chocolate (Como agua para chocolate) (1992)', 'Home for the Holidays (1995)', 'Dumb & Dumber (1994)', 'Last Supper, The (1995)', 'Shawshank Redemption, The (1994)', 'Prophecy II, The (1998)', 'Secrets & Lies (1996)', 'Grosse Pointe Blank (1997)', 'Replacement Killers, The (1998)', 'In the Name of the Father (1993)', 'Hackers (1995)', 'Flirting With Disaster (1996)', 'Piano, The (1993)', 'Shadow, The (1994)', 'Clear and Present Danger (1994)', 'Alice in Wonderland (1951)', 'My Life as a Dog (Mitt liv som hund) (1985)', 'Empire Strikes Back, The (1980)', 'Jaws 2 (1978)', 'Hunt for Red October, The (1990)', 'Program, The (1993)', 'Virtuosity (1995)', 'Princess Bride, The (1987)', 'Unforgiven (1992)', 'Chungking Express (1994)', 'Tombstone (1993)', 'Basketball Diaries, The (1995)', 'Nikita (La Femme Nikita) (1990)', \"Don't Be a Menace to South Central While Drinking Your Juice in the Hood (1996)\", 'Hard Target (1993)', 'Victor/Victoria (1982)', 'Belle de jour (1967)', 'Godfather, The (1972)', 'Mrs. Doubtfire (1993)', \"Carlito's Way (1993)\", 'Assassins (1995)', 'Bed of Roses (1996)', 'Sense and Sensibility (1995)', 'Howling, The (1981)', 'Nell (1994)', 'Casablanca (1942)', \"She's the One (1996)\", 'M. Butterfly (1993)', 'Braveheart (1995)', 'Highlander (1986)', 'My Fair Lady (1964)', 'Madness of King George, The (1994)', 'Celtic Pride (1996)', 'Beverly Hills Cop III (1994)', 'Courage Under Fire (1996)', 'Bob Roberts (1992)', 'Crimson Tide (1995)', 'Batman Forever (1995)', 'Cutthroat Island (1995)', 'Rosencrantz and Guildenstern Are Dead (1990)', 'Under Siege (1992)', 'Arsenic and Old Lace (1944)', 'Conspiracy Theory (1997)', 'Robin Hood: Prince of Thieves (1991)', 'Evil Dead II (1987)', 'Sleepless in Seattle (1993)', 'Fox and the Hound, The (1981)', 'Perfect World, A (1993)', 'Jackal, The (1997)', 'Anne Frank Remembered (1995)', 'So I Married an Axe Murderer (1993)', 'Striptease (1996)', 'Dazed and Confused (1993)', 'Aristocats, The (1970)', 'Brothers McMullen, The (1995)', 'Angus (1995)', 'Escape to Witch Mountain (1975)', 'Jury Duty (1995)', \"City Slickers II: The Legend of Curly's Gold (1994)\", 'Jimmy Hollywood (1994)', 'Dead Man Walking (1995)', 'Stand by Me (1986)', 'Higher Learning (1995)', \"William Shakespeare's Romeo and Juliet (1996)\", 'Mortal Kombat: Annihilation (1997)', 'Apollo 13 (1995)', 'Free Willy 3: The Rescue (1997)', 'Fools Rush In (1997)', 'Paris, Texas (1984)', 'Beautiful Girls (1996)', 'Lost World: Jurassic Park, The (1997)', 'Streetcar Named Desire, A (1951)', 'Shining, The (1980)', 'Some Kind of Wonderful (1987)', 'Balto (1995)', 'Usual Suspects, The (1995)', 'Speed (1994)', 'Pocahontas (1995)', 'Philadelphia (1993)', 'Brother Minister: The Assassination of Malcolm X (1994)', 'Short Cuts (1993)', 'Frighteners, The (1996)', 'Wrong Trousers, The (1993)', 'Malice (1993)', 'Rocket Man (1997)', 'Son in Law (1993)', 'Menace II Society (1993)', 'When Harry Met Sally... (1989)', 'City of Lost Children, The (1995)', 'Made in America (1993)', 'Aladdin and the King of Thieves (1996)', 'Major Payne (1994)', 'My Left Foot (1989)', 'Speed 2: Cruise Control (1997)', 'Young Frankenstein (1974)', \"Pete's Dragon (1977)\", \"What's Love Got to Do with It (1993)\", 'Apocalypse Now (1979)', \"Dante's Peak (1997)\", 'Jeffrey (1995)', 'African Queen, The (1951)', 'Fled (1996)', 'Cable Guy, The (1996)', 'Romeo Is Bleeding (1993)', 'Spy Hard (1996)', 'Dances with Wolves (1990)', 'Ghosts of Mississippi (1996)', 'Favor, The (1994)', 'Vanya on 42nd Street (1994)', 'Top Gun (1986)', 'Omen, The (1976)', 'Supercop (1992)', 'Exotica (1994)', 'Tales from the Crypt Presents: Bordello of Blood (1996)', 'Harlem (1993)', 'Blues Brothers, The (1980)', 'Tin Men (1987)', 'Fearless (1993)', 'Barcelona (1994)', 'Back to the Future (1985)', 'Contact (1997)', 'Ref, The (1994)', \"Mr. Holland's Opus (1995)\", 'Brady Bunch Movie, The (1995)', 'Pulp Fiction (1994)', 'Firm, The (1993)', 'Island of Dr. Moreau, The (1996)', 'Night Falls on Manhattan (1997)', \"National Lampoon's Senior Trip (1995)\", 'Forrest Gump (1994)', 'Lawrence of Arabia (1962)', 'Prophecy, The (1995)', 'Sting, The (1973)', 'Bottle Rocket (1996)', 'Wings of Desire (1987)', 'Father of the Bride Part II (1995)', 'Godfather: Part II, The (1974)', 'Clerks (1994)', 'M*A*S*H (1970)', 'Chamber, The (1996)', 'Living in Oblivion (1995)', 'American Buffalo (1996)', 'Juror, The (1996)', 'Bedknobs and Broomsticks (1971)', 'Grease (1978)', 'Glimmer Man, The (1996)', \"Romy and Michele's High School Reunion (1997)\", 'Feeling Minnesota (1996)', 'Turbo: A Power Rangers Movie (1997)', 'Devil in a Blue Dress (1995)', 'Cape Fear (1962)', 'Eddie (1996)', 'Tommy Boy (1995)', 'Kiss of Death (1995)', 'Secret Garden, The (1993)', 'River Wild, The (1994)', 'My Own Private Idaho (1991)', 'Hoop Dreams (1994)', \"Jupiter's Wife (1994)\", 'First Knight (1995)', 'Heavy Metal (1981)', 'Psycho (1960)', 'Bullets Over Broadway (1994)', 'Killing Zoe (1994)', 'Star Trek: Generations (1994)', 'Raising Arizona (1987)', 'Quick and the Dead, The (1995)', 'Dead Presidents (1995)', 'Aladdin (1992)', 'Sword in the Stone, The (1963)', 'Ransom (1996)', 'Lawnmower Man 2: Beyond Cyberspace (1996)', 'Nixon (1995)', 'Volcano (1997)', 'Clockers (1995)', 'Men in Black (1997)', 'Gone with the Wind (1939)', 'Diabolique (1996)', 'Ghost (1990)', 'Body Snatchers (1993)', 'Beverly Hills Ninja (1997)', 'Transformers: The Movie, The (1986)', 'Tales From the Crypt Presents: Demon Knight (1995)', 'Benny & Joon (1993)', 'Dumbo (1941)', 'Mr. Wrong (1996)', 'Fantasia (1940)', 'Much Ado About Nothing (1993)', 'Extreme Measures (1996)', 'Mallrats (1995)', 'Passion Fish (1992)', 'Lawnmower Man, The (1992)', 'Mars Attacks! (1996)', 'Young Guns II (1990)', 'Murder in the First (1995)', 'Great Escape, The (1963)', 'Cape Fear (1991)', 'Air Force One (1997)', 'Raging Bull (1980)', 'Cool Hand Luke (1967)', 'Space Jam (1996)', 'Platoon (1986)', 'Once Were Warriors (1994)', 'Bronx Tale, A (1993)', 'Star Trek: The Motion Picture (1979)', 'Daylight (1996)', 'Sirens (1994)', 'Mary Reilly (1996)', 'Net, The (1995)', 'Clean Slate (1994)', 'Spawn (1997)', 'Professional, The (1994)', 'Pallbearer, The (1996)', 'Terminator 2: Judgment Day (1991)', 'Heat (1995)']\n"
          ]
        }
      ]
    }
  ]
}